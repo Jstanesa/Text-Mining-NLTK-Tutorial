{
 "cells": [
  {
   "cell_type": "markdown",
   "metadata": {},
   "source": [
    "This section of the tutorial will teach you how to convert raw text into text that can be processed more easily using NLTK. \"raw text\" is widely available from many sources, and refers to unprocessed, or \"raw\", selections of text, which can be in many formats, ranging from HTML found on a web page, to messages on an online forum. We will convert this text into a NLTK \"Text\" object, allowing us to use NLTK's built in functions to process the text."
   ]
  },
  {
   "cell_type": "markdown",
   "metadata": {},
   "source": [
    "First, we will grab a piece of text from a URL on the internet. We will do this by using the \"urllib\" library for Python 2. Import the \"urllib\" library into your program, and then run some cryptic functions of the library to get a big string containing all of the text inside of the URL. We store this string inside of the \"raw\" variable. You can change the URL inside of the quotes to anything you like.\n"
   ]
  },
  {
   "cell_type": "code",
   "execution_count": 2,
   "metadata": {
    "collapsed": false
   },
   "outputs": [],
   "source": [
    "import urllib, nltk\n",
    "\n",
    "url = \"http://www.gutenberg.org/files/23448/23448.txt\"\n",
    "response = urllib.urlopen(url)\n",
    "raw = response.read().decode('utf8')"
   ]
  },
  {
   "cell_type": "markdown",
   "metadata": {},
   "source": [
    "Now, let's store this text locally so that we can use it later, without having to grab it from the web every time. We'll use Python's built in file I/O to do this. You can find some more information about this at: https://docs.python.org/2/tutorial/inputoutput.html#reading-and-writing-files"
   ]
  },
  {
   "cell_type": "code",
   "execution_count": null,
   "metadata": {
    "collapsed": true
   },
   "outputs": [],
   "source": [
    "f = open(\"newFileName.txt\",\"w\") #create a new file named \"newFileName.txt\" in the current directory\n",
    "f.write(raw)\n",
    "f.close()"
   ]
  },
  {
   "cell_type": "markdown",
   "metadata": {},
   "source": [
    "Okay, now let's read text from a file on our disk. Make sure to pass \"rU\" as the second argument to the open() function, which will make sure we can properly read files from other operating systems."
   ]
  },
  {
   "cell_type": "code",
   "execution_count": null,
   "metadata": {
    "collapsed": true
   },
   "outputs": [],
   "source": [
    "f = open(\"existingFileName.txt\",\"rU\") #U is for Universal\n",
    "raw = f.read()\n",
    "f.close()"
   ]
  },
  {
   "cell_type": "markdown",
   "metadata": {},
   "source": [
    "Now that we have our raw text, let's clean it up a little. If you chose a URL which points to a web page earlier, there will be a lot of unwanted clutter in our raw text that we aren't interested in. We will use BeautifulSoup to remove all of the html tags from our text and get back a nicer string."
   ]
  },
  {
   "cell_type": "code",
   "execution_count": null,
   "metadata": {
    "collapsed": true
   },
   "outputs": [],
   "source": [
    "raw = BeautifulSoup(raw).get_text()"
   ]
  },
  {
   "cell_type": "markdown",
   "metadata": {},
   "source": [
    "At this point, we should have a string of text which somewhat resembles the english language. Now, we will use NLTK to break up this text into tokens. Tokens are the pieces that make up english, namely, punctuation and words. We'll pass these tokens into an NLTK Text object, which will allow us to leverage the full power of NLTK."
   ]
  },
  {
   "cell_type": "code",
   "execution_count": null,
   "metadata": {
    "collapsed": true
   },
   "outputs": [],
   "source": [
    "tokens = nltk.word_tokenize(raw)\n",
    "text = nltk.Text(tokens)"
   ]
  }
 ],
 "metadata": {
  "kernelspec": {
   "display_name": "Python 2",
   "language": "python",
   "name": "python2"
  },
  "language_info": {
   "codemirror_mode": {
    "name": "ipython",
    "version": 2
   },
   "file_extension": ".py",
   "mimetype": "text/x-python",
   "name": "python",
   "nbconvert_exporter": "python",
   "pygments_lexer": "ipython2",
   "version": "2.7.10"
  }
 },
 "nbformat": 4,
 "nbformat_minor": 0
}
