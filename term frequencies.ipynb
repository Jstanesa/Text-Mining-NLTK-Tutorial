{
 "cells": [
  {
   "cell_type": "code",
   "execution_count": null,
   "metadata": {
    "collapsed": false
   },
   "outputs": [],
   "source": [
    "from __future__ import division\n",
    "from nltk.book import *\n",
    "import nltk, re, pprint, urllib\n",
    "#from nltk import word_tokenize"
   ]
  },
  {
   "cell_type": "markdown",
   "metadata": {},
   "source": [
    "One useful way we can process our words is to look at the \"term frequencies\" of the document. \"Term frequency\" is just another word for how frequently a given word appears in a document. \n",
    "NLTK has a built in function which creates a frequency distribution of all the words in our document."
   ]
  },
  {
   "cell_type": "code",
   "execution_count": null,
   "metadata": {
    "collapsed": false
   },
   "outputs": [],
   "source": [
    "myFreqDist = nltk.FreqDist(text4)"
   ]
  },
  {
   "cell_type": "markdown",
   "metadata": {},
   "source": [
    "We can use this frequency distribution to get the most frequent words in our text, or get the frequency of a particular term inside of a text."
   ]
  },
  {
   "cell_type": "code",
   "execution_count": null,
   "metadata": {
    "collapsed": false,
    "scrolled": true
   },
   "outputs": [],
   "source": [
    "print myFreqDist[\"the\"] #print the number of instances of the word \"the\" in the text\n",
    "print myFreqDist.freq(\"the\") #print the frequency of the word \"the\" in the text\n",
    "\n",
    "print myFreqDist.most_common(50)"
   ]
  },
  {
   "cell_type": "markdown",
   "metadata": {},
   "source": [
    "Another option for analysing term frequencies in documents is using NLTK's \"Text Collection\" class. This class will allow us to compare the frequencies of words relative to their respective frequencies in other documents. This will give us a more useful measure of how relevant a given term is to a document.\n",
    "\n",
    "The statistic we use to represent this idea is \"tf-idf\", short for \"term frequency-inverse document frequency.\" Inverse document frequency is a measure of how frequently a term appears across all documents in our collection."
   ]
  },
  {
   "cell_type": "code",
   "execution_count": null,
   "metadata": {
    "collapsed": false
   },
   "outputs": [],
   "source": [
    "from nltk.text import TextCollection\n",
    "myTextCollection = TextCollection([text1,text2,text3,text4,text5,text6,text7,text8,text9])\n",
    "\n",
    "print myTextCollection.tf_idf(\"nation\",text7)\n",
    "print myTextCollection.tf_idf(\"nation\",text4)\n",
    "print myTextCollection.tf_idf(\"nation\",text1)"
   ]
  },
  {
   "cell_type": "markdown",
   "metadata": {},
   "source": [
    "tf-idf is commonly used in search engines to find the most relevant results of a search."
   ]
  }
 ],
 "metadata": {
  "kernelspec": {
   "display_name": "Python 2",
   "language": "python",
   "name": "python2"
  },
  "language_info": {
   "codemirror_mode": {
    "name": "ipython",
    "version": 2
   },
   "file_extension": ".py",
   "mimetype": "text/x-python",
   "name": "python",
   "nbconvert_exporter": "python",
   "pygments_lexer": "ipython2",
   "version": "2.7.10"
  }
 },
 "nbformat": 4,
 "nbformat_minor": 0
}
